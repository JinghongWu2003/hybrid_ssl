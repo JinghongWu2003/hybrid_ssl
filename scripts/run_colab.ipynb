{
 "cells": [
  {
   "cell_type": "markdown",
   "metadata": {},
   "source": [
    "# Hybrid SSL Colab Runner\n",
    "This notebook installs dependencies, downloads Tiny-ImageNet, launches pretraining, runs a linear probe, and visualizes reconstructions and t-SNE embeddings."
   ]
  },
  {
   "cell_type": "code",
   "execution_count": null,
   "metadata": {},
   "outputs": [],
   "source": [
    "!pip install -q -U pip\n",
    "!pip install -q --no-warn-script-location \\\n",
    "  'torch==2.2.2' \\\n",
    "  'torchvision==0.17.2' \\\n",
    "  'torchaudio==2.2.2' \\\n",
    "  'timm==0.9.12' \\\n",
    "  'einops==0.7.0' \\\n",
    "  'tensorboard>=2.19,<2.20' \\\n",
    "  'wandb==0.16.4' \\\n",
    "  'umap-learn==0.5.5' \\\n",
    "  'datasets>=2.19,<3' \\\n",
    "  'numpy>=2.0,<2.3' \\\n",
    "  'scipy>=1.14,<1.15' \\\n",
    "  'pandas==2.2.2' \\\n",
    "  'huggingface-hub>=0.34,<2' \\\n",
    "  'tqdm>=4.67,<5' \\\n",
    "  'pyyaml>=6.0.2,<7' \\\n",
    "  'protobuf>=5.29.1,<7' \\\n",
    "  'fsspec==2025.3.0'\n"
   ]
  },
  {
   "cell_type": "code",
   "execution_count": null,
   "metadata": {},
   "outputs": [],
   "source": [
    "import pathlib\n",
    "\n",
    "repo = pathlib.Path('/content/hybrid_ssl').resolve()\n",
    "\n",
    "if not repo.exists():\n",
    "    !git clone https://github.com/JinghongWu2003/hybrid_ssl.git $repo\n",
    "\n",
    "%cd $repo\n",
    "\n",
    "!pip install -q -e .\n",
    "\n",
    "!pip check\n"
   ]
  },
  {
   "cell_type": "code",
   "execution_count": null,
   "metadata": {},
   "outputs": [],
   "source": [
    "!python data/prepare_tiny_imagenet.py --out ./data\n",
    "!python train.py --config configs/tiny_imagenet_vit_small.yaml --wandb\n"
   ]
  },
  {
   "cell_type": "code",
   "execution_count": null,
   "metadata": {},
   "outputs": [],
   "source": [
    "!python eval_linear.py --config configs/linear_probe_cifar10.yaml\n"
   ]
  },
  {
   "cell_type": "code",
   "execution_count": null,
   "metadata": {},
   "outputs": [],
   "source": [
    "!python visualize.py --config configs/tiny_imagenet_vit_small.yaml --checkpoint runs/tiny_vits/best.pt --out runs/tiny_vits/figs\n"
   ]
  }
 ],
 "metadata": {
  "kernelspec": {
   "display_name": "Python 3",
   "language": "python",
   "name": "python3"
  },
  "language_info": {
   "name": "python",
   "version": "3.10"
  }
 },
 "nbformat": 4,
 "nbformat_minor": 5
}