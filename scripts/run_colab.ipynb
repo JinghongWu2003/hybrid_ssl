{
 "cells": [
  {
   "cell_type": "markdown",
   "metadata": {},
   "source": [
    "# Hybrid SSL Colab Runner\n",
    "This notebook installs dependencies, downloads Tiny-ImageNet, launches pretraining, runs a linear probe, and visualizes reconstructions and t-SNE embeddings."
   ]
  },
  {
   "cell_type": "code",
   "execution_count": null,
   "metadata": {},
   "outputs": [],
   "source": [
    "!pip install -q torch torchvision torchaudio timm einops tensorboard wandb umap-learn datasets"
   ]
  },
  {
   "cell_type": "code",
   "execution_count": null,
   "metadata": {},
   "outputs": [],
   "source": [
    "import pathlib\n",
    "repo = pathlib.Path('/content/hybrid_ssl').resolve()\n",
    "if not repo.exists():\n",
    "    !git clone https://github.com/placeholder/hybrid_ssl.git $repo\n",
    "%cd $repo\n",
    "!pip install -q -e .\n"
   ]
  },
  {
   "cell_type": "code",
   "execution_count": null,
   "metadata": {},
   "outputs": [],
   "source": [
    "!python data/prepare_tiny_imagenet.py --out ./data\n",
    "!python train.py --config configs/tiny_imagenet_vit_small.yaml --wandb\n"
   ]
  },
  {
   "cell_type": "code",
   "execution_count": null,
   "metadata": {},
   "outputs": [],
   "source": [
    "!python eval_linear.py --config configs/linear_probe_cifar10.yaml\n"
   ]
  },
  {
   "cell_type": "code",
   "execution_count": null,
   "metadata": {},
   "outputs": [],
   "source": [
    "!python visualize.py --config configs/tiny_imagenet_vit_small.yaml --checkpoint runs/tiny_vits/best.pt --out runs/tiny_vits/figs\n"
   ]
  }
 ],
 "metadata": {
  "kernelspec": {
   "display_name": "Python 3",
   "language": "python",
   "name": "python3"
  },
  "language_info": {
   "name": "python",
   "version": "3.10"
  }
 },
 "nbformat": 4,
 "nbformat_minor": 5
}
